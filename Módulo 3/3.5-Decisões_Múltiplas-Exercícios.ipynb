{
 "cells": [
  {
   "cell_type": "markdown",
   "id": "3ceebaed-9233-490b-a2f8-4e4008baa872",
   "metadata": {},
   "source": [
    "# Módulo 3 - Condicionais\n",
    "## Decisões Múltiplas\n",
    "\n",
    "### Q1.\n",
    "\n",
    " Vamos fazer uma calculadora! Escreva um programa que solicita 3 entradas: o primeiro operando (float), o operador (caracter) e o segundo operando (float). Seu programa deve imprimir o resultado da operação solicitada, entre soma (+), subtração (-), divisão (/), multiplicação (*) ou potência (**). Seu programa também deve imprimir uma mensagem de erro se a operação solicitada não estiver dentre as opções disponíveis.\n",
    "\n",
    "Seguem alguns exemplos de interação com seu código no terminal.\n",
    "\n",
    "    Digite o primeiro operando: 5.2\n",
    "    Digite o operador (+, -, /, *, **): *\n",
    "    Digite o segundo operando` 3\n",
    "    Resultado: 5.2 * 3.0 = 15.6\n",
    "\n",
    "    Digite o primeiro operando: 8\n",
    "    Digite o operador (+, -, /, *, **): **\n",
    "    Digite o segundo operando: 2\n",
    "    Resultado: 8.0 * 2.0 = 64.0\n",
    "\n",
    "    Digite o primeiro operando: 7\n",
    "    Digite o operador (+, -, /, *, **): %\n",
    "    Digite o segundo operando: 3.4\n",
    "    Erro! Operação inválida. \n",
    "\n",
    "    Digite o primeiro operando: 10\n",
    "    Digite o operador (+, -, /, *, **): /\n",
    "    Digite o segundo operando: 2.5\n",
    "    Resultado: 10.0 / 2.5 = 4.0\n"
   ]
  },
  {
   "cell_type": "code",
   "execution_count": 10,
   "id": "98a1ab36-fe8d-428d-acfe-6647da1bf885",
   "metadata": {},
   "outputs": [
    {
     "name": "stdin",
     "output_type": "stream",
     "text": [
      "Digite o primeiro número:  5.2\n",
      "Digite o operador (+, -, *, /, **) *\n",
      "Digite o segundo número:  3\n"
     ]
    },
    {
     "name": "stdout",
     "output_type": "stream",
     "text": [
      " resultado: 5.2 * 3.0 = 15.6\n"
     ]
    }
   ],
   "source": [
    "## Escreva e execute seu código aqui\n",
    "n1 = float(input (\"Digite o primeiro número: \"))\n",
    "operador = input(\"Digite o operador (+, -, *, /, **)\")\n",
    "n2 = float(input (\"Digite o segundo número: \"))\n",
    "\n",
    "if operador == \"+\":\n",
    "    resultado = n1 + n2\n",
    "    print (f\" resultado: {n1} + {n2} = {resultado:.1f}\")\n",
    "\n",
    "elif operador == \"-\":\n",
    "    resultado = n1 - n2\n",
    "    print (f\" resultado: {n1} - {n2} = {resultado:.1f}\")\n",
    "\n",
    "elif operador == \"*\":\n",
    "    resultado = n1 * n2\n",
    "    print (f\" resultado: {n1} * {n2} = {resultado:.1f}\")\n",
    "\n",
    "elif operador == \"/\":\n",
    "    resultado = n1 / n2\n",
    "    print (f\" resultado: {n1} / {n2} = {resultado:.1f}\")\n",
    "\n",
    "elif operador == \"**\":\n",
    "    resultado = n1 ** n2\n",
    "    print (f\" resultado: {n1} ** {n2} = {resultado:.1f}\")\n",
    "\n",
    "else:\n",
    "    print (\"Erro! Operação solicitada não está dentro das opções disponíveis.\")"
   ]
  },
  {
   "cell_type": "markdown",
   "id": "a9dbc70e-d121-4029-8df7-fc5e4572b657",
   "metadata": {},
   "source": [
    "### Q2.\n",
    "\n",
    "Escreva um programa que leia os comprimentos dos 3 lados de um triângulo e diga se o triângulo é equilátero, isóceles ou escaleno.\n",
    "Regras:\n",
    "\n",
    "- Isóceles: Quaisquer dois lados com o mesmo comprimento\n",
    "- Equilátero: Os três lados tem o mesmo comprimento\n",
    "- Escaleno: Três lados de comprimento diferente\n",
    "  \n",
    "Note que a ordem das condições importa! Seguem alguns exemplos de interação com seu código no terminal.\n",
    "\n",
    "    Digite o comprimento do lado 1: 4 \n",
    "    Digite o comprimento do lado 2: 4 \n",
    "    Digite o comprimento do lado 3: 6 \n",
    "    Triângulo: Isóceles\n",
    "\n",
    "    Digite o comprimento do lado 1: 5\n",
    "    Digite o comprimento do lado 2: 5\n",
    "    Digite o comprimento do lado 3: 5\n",
    "    Triângulo: Equilátero\n",
    "\n",
    "    Digite o comprimento do lado 1: 7\n",
    "    Digite o comprimento do lado 2: 4\n",
    "    Digite o comprimento do lado 3: 9\n",
    "    Triângulo: Escaleno"
   ]
  },
  {
   "cell_type": "code",
   "execution_count": null,
   "id": "86197f2f-07d6-4f7e-ac6e-637391e8643a",
   "metadata": {},
   "outputs": [],
   "source": [
    "## Escreva e execute seu código aqui\n",
    "lado1 = int(input (\"Digite o comprimento do lado 1: \"))\n",
    "lado2 = int(input (\"Digite o comprimento do lado 2: \"))\n",
    "lado3 = int(input (\"Digite o comprimento do lado 3: \"))\n",
    "\n",
    "if lado1 == lado2 and lado2 == lado3:\n",
    "    print (\"Triângulo: Equilátero\")\n",
    "    \n",
    "elif lado1 == lado2 or lado1 == lado3 or lado2 == lado3:\n",
    "    print (\"Triângulo: Isóceles\")\n",
    "    \n",
    "else:\n",
    "    print (\"Triângulo: Escaleno\")\n"
   ]
  },
  {
   "cell_type": "markdown",
   "id": "bc57076a-7828-4375-b1e5-0d7abc146759",
   "metadata": {},
   "source": [
    "### Q3.\n",
    "\n",
    "Você está desenvolvendo um sistema de avaliação de desempenho para um jogo. Escreva um programa em Python que avalia a pontuação do jogador em uma missão e atribui uma classificação com base nas seguintes condições:\n",
    "\n",
    "- Se a pontuação for menor que 70, atribua a classificação \"Insatisfatório\".\n",
    "- Se a pontuação for maior ou igual a 70, atribua a classificação \"Regular\".\n",
    "- Se a pontuação for maior ou igual a 80, atribua a classificação \"Bom\".\n",
    "- Se a pontuação for maior ou igual a 90, atribua a classificação \"Excelente\".\n",
    "\n",
    "Escreva um programa que solicita ao usuário a pontuação e imprime a classificação correspondente."
   ]
  },
  {
   "cell_type": "code",
   "execution_count": 17,
   "id": "7ca4b841-af43-4a8e-9517-2c89d141a140",
   "metadata": {},
   "outputs": [
    {
     "name": "stdin",
     "output_type": "stream",
     "text": [
      "pontuação:  78\n"
     ]
    },
    {
     "name": "stdout",
     "output_type": "stream",
     "text": [
      "Regular.\n"
     ]
    }
   ],
   "source": [
    "## Escreva e execute seu código aqui\n",
    "pontuação = int(input (\"pontuação: \"))\n",
    "\n",
    "if pontuação >= 90:\n",
    "    print (\"Excelente.\")\n",
    "\n",
    "elif pontuação >= 80:\n",
    "    print (\"Bom.\")\n",
    "\n",
    "elif pontuação >= 70:\n",
    "    print (\"Regular.\")\n",
    "\n",
    "elif pontuação < 70:\n",
    "    print (\"Insatisfatório.\")"
   ]
  },
  {
   "cell_type": "markdown",
   "id": "f32b8e98-2528-4781-9918-a99ac6464e33",
   "metadata": {},
   "source": [
    "### Q4.\n",
    "\n",
    "Você está implementando um sistema de desconto em uma loja online. Escreva um programa em Python que calcula o desconto com base no valor total da compra e atribui diferentes níveis de desconto de acordo com as seguintes condições:\n",
    "\n",
    "- Se o valor total da compra for menor que R$ 50, não há desconto.\n",
    "  \n",
    "- Se o valor total da compra for maior ou igual a R$ 50, atribua um desconto de 10%.\n",
    "\n",
    "- Se o valor total da compra for maior ou igual a R$ 100, atribua um desconto de 20%.\n",
    "\n",
    "Seguem alguns exemplos de interação com seu código no terminal. Preste atenção na formatação esperada para as saídas.\n",
    "\n",
    "    Digite o valor total da compra: 120 \n",
    "    Desconto aplicado: 20.0%\n",
    "    Valor final com desconto: R$96.00\n",
    "\n",
    "    Digite o valor total da compra: 65\n",
    "    Desconto aplicado: 10.0%\n",
    "    Valor final com desconto: R$58.50\n",
    "\n",
    "    Digite o valor total da compra: 40\n",
    "    Desconto aplicado: 0.0%\n",
    "    Valor final com desconto: R$40.00"
   ]
  },
  {
   "cell_type": "code",
   "execution_count": 20,
   "id": "58246d89-253e-4631-ab39-7bbd0d297713",
   "metadata": {},
   "outputs": [
    {
     "name": "stdin",
     "output_type": "stream",
     "text": [
      "Digite o valor total da compra:  156.0\n"
     ]
    },
    {
     "name": "stdout",
     "output_type": "stream",
     "text": [
      "Desconto aplicado: 20.0%\n",
      "Valor final com desconto: R$124.80\n"
     ]
    }
   ],
   "source": [
    "## Escreva e execute seu código aqui\n",
    "valor_total = float(input(\"Digite o valor total da compra: \"))\n",
    "\n",
    "if valor_total >= 100:\n",
    "    desconto = 0.20\n",
    "elif valor_total >= 50:\n",
    "    desconto = 0.10\n",
    "else:\n",
    "    desconto = 0.0\n",
    "\n",
    "valor_final = valor_total * (1 - desconto)\n",
    "\n",
    "print(f\"Desconto aplicado: {desconto * 100:.1f}%\")\n",
    "print(f\"Valor final com desconto: R${valor_final:.2f}\")"
   ]
  },
  {
   "cell_type": "markdown",
   "id": "767b60de-1644-4b67-80b5-37dfaa65afbf",
   "metadata": {},
   "source": [
    "### Q5.\n",
    "\n",
    "Crie um sistema de autenticação em Python. O sistema deve funcionar da seguinte maneira:\n",
    "\n",
    "    1. Um banco de dados fictício deve ser implementado como um dicionário, onde a chave é o nome do usuário e o valor é uma tupla contendo a senha e o nível de acesso do usuário.\n",
    "\n",
    "    2. O programa deve solicitar ao usuário que insira seu usuário e senha.\n",
    "\n",
    "    3. O sistema deve:\n",
    "\n",
    "    - Verificar se o login existe no banco de dados.\n",
    "    - Comparar a senha fornecida com a armazenada no banco.\n",
    "    - Caso as credenciais sejam válidas, exibir uma mensagem de sucesso e o nível de acesso do usuário.\n",
    "    - Caso seja inválido deverá retornar mensagem: “Erro: Usuário ou senha inválidos.”\n",
    "    - O programa deve rodar em um laço para permitir múltiplas tentativas de login, mas também permitir que o usuário opte por sair do programa.\n",
    "\n",
    "Atributos dos 3 usuários cadastrados no sistema (usuário, senha e nível)\n",
    "\n",
    "    1. admin – admin123 – Administrador\n",
    "    2. usuario1 – senha123 – Usuário Comum\n",
    "    3. visitante1 – guest2024 – Visitante"
   ]
  },
  {
   "cell_type": "code",
   "execution_count": 23,
   "id": "7c7db309-b7c3-46f7-80a8-06fe06227252",
   "metadata": {},
   "outputs": [
    {
     "name": "stdout",
     "output_type": "stream",
     "text": [
      "\n",
      "--- Sistema de Autenticação ---\n"
     ]
    },
    {
     "name": "stdin",
     "output_type": "stream",
     "text": [
      "Deseja sair? (s/n):  n\n",
      "Usuário:  admin\n",
      "Senha:  admin123\n"
     ]
    },
    {
     "name": "stdout",
     "output_type": "stream",
     "text": [
      "Acesso permitido! Nível de acesso: Administrador\n",
      "\n",
      "--- Sistema de Autenticação ---\n"
     ]
    },
    {
     "name": "stdin",
     "output_type": "stream",
     "text": [
      "Deseja sair? (s/n):  n\n",
      "Usuário:  usuario1\n",
      "Senha:  usuario123\n"
     ]
    },
    {
     "name": "stdout",
     "output_type": "stream",
     "text": [
      "Erro: Usuário ou senha inválidos.\n",
      "\n",
      "--- Sistema de Autenticação ---\n"
     ]
    },
    {
     "name": "stdin",
     "output_type": "stream",
     "text": [
      "Deseja sair? (s/n):  s\n"
     ]
    },
    {
     "name": "stdout",
     "output_type": "stream",
     "text": [
      "Encerrando o programa.\n"
     ]
    }
   ],
   "source": [
    "## Escreva e execute seu código aqui\n",
    "usuarios = {\n",
    "    \"admin\": (\"admin123\", \"Administrador\"),\n",
    "    \"usuario1\": (\"senha123\", \"Usuário Comum\"),\n",
    "    \"visitante1\": (\"guest2024\", \"Visitante\")\n",
    "}\n",
    "\n",
    "while True:\n",
    "    print(\"\\n--- Sistema de Autenticação ---\")\n",
    "    sair = input(\"Deseja sair? (s/n): \").lower()\n",
    "\n",
    "    if sair == \"s\":\n",
    "        print(\"Encerrando o programa.\")\n",
    "        break\n",
    "\n",
    "    login = input(\"Usuário: \")\n",
    "    senha = input(\"Senha: \")\n",
    "\n",
    "    if login in usuarios:\n",
    "        senha_correta, nivel = usuarios[login]\n",
    "        if senha == senha_correta:\n",
    "            print(f\"Acesso permitido! Nível de acesso: {nivel}\")\n",
    "        else:\n",
    "            print(\"Erro: Usuário ou senha inválidos.\")\n",
    "    else:\n",
    "        print(\"Erro: Usuário ou senha inválidos.\")"
   ]
  },
  {
   "cell_type": "code",
   "execution_count": null,
   "id": "57dafb80-0e05-4fbc-87d1-e9187ee90f98",
   "metadata": {},
   "outputs": [],
   "source": []
  }
 ],
 "metadata": {
  "kernelspec": {
   "display_name": "Python 3 (ipykernel)",
   "language": "python",
   "name": "python3"
  },
  "language_info": {
   "codemirror_mode": {
    "name": "ipython",
    "version": 3
   },
   "file_extension": ".py",
   "mimetype": "text/x-python",
   "name": "python",
   "nbconvert_exporter": "python",
   "pygments_lexer": "ipython3",
   "version": "3.13.3"
  }
 },
 "nbformat": 4,
 "nbformat_minor": 5
}
